{
 "cells": [
  {
   "cell_type": "markdown",
   "id": "b47127dc",
   "metadata": {},
   "source": [
    "# Kazakh CEFR Exploration\n",
    "\n",
    "This notebook walks through the core components of the Kazakh↔Russian CEFR project: data preparation, alignment diagnostics, text-level prediction, and a tabular sentence classifier."
   ]
  },
  {
   "cell_type": "code",
   "execution_count": 20,
   "id": "68adedca",
   "metadata": {},
   "outputs": [
    {
     "name": "stdout",
     "output_type": "stream",
     "text": [
      "Project root: /Users/galymzhantore/cefr-classification-kk\n",
      "Python version: 3.10.18\n",
      "PyTorch version: 2.5.1\n",
      "CUDA available: False\n"
     ]
    }
   ],
   "source": [
    "import pathlib\n",
    "import platform\n",
    "import torch\n",
    "\n",
    "PROJECT_ROOT = pathlib.Path.cwd()\n",
    "print(f\"Project root: {PROJECT_ROOT}\")\n",
    "print(f\"Python version: {platform.python_version()}\")\n",
    "print(f\"PyTorch version: {torch.__version__}\")\n",
    "print(f\"CUDA available: {torch.cuda.is_available()}\")"
   ]
  },
  {
   "cell_type": "markdown",
   "id": "31d04bcf",
   "metadata": {},
   "source": [
    "## Prepare Shared Resources\n",
    "\n",
    "We cache the parallel KazParC slice and the derived silver labels. The helper functions regenerate artifacts only when they are missing."
   ]
  },
  {
   "cell_type": "code",
   "execution_count": 21,
   "id": "e14942ac",
   "metadata": {},
   "outputs": [
    {
     "name": "stdout",
     "output_type": "stream",
     "text": [
      "Using existing parallel corpus: data/parallel/kazparc_kz_ru.csv\n",
      "Silver labels: data/labels/silver_word_labels.csv\n"
     ]
    }
   ],
   "source": [
    "from pathlib import Path\n",
    "\n",
    "from src.data.download_parallel import save_kz_ru\n",
    "from src.pipeline.build_silver_labels import main as build_silver_labels\n",
    "from cefr.alignment import EmbeddingAligner"
   ]
  },
  {
   "cell_type": "markdown",
   "id": "ed99e61c",
   "metadata": {},
   "source": [
    "## Silver Label Overview\n",
    "\n",
    "Inspect the automatically generated token-level labels and basic statistics."
   ]
  },
  {
   "cell_type": "code",
   "execution_count": 22,
   "id": "48f148c3",
   "metadata": {},
   "outputs": [
    {
     "name": "stdout",
     "output_type": "stream",
     "text": [
      "Rows: 18,485\n"
     ]
    },
    {
     "data": {
      "text/html": [
       "<div>\n",
       "<style scoped>\n",
       "    .dataframe tbody tr th:only-of-type {\n",
       "        vertical-align: middle;\n",
       "    }\n",
       "\n",
       "    .dataframe tbody tr th {\n",
       "        vertical-align: top;\n",
       "    }\n",
       "\n",
       "    .dataframe thead th {\n",
       "        text-align: right;\n",
       "    }\n",
       "</style>\n",
       "<table border=\"1\" class=\"dataframe\">\n",
       "  <thead>\n",
       "    <tr style=\"text-align: right;\">\n",
       "      <th></th>\n",
       "      <th>kaz_item</th>\n",
       "      <th>rus_item</th>\n",
       "      <th>cefr</th>\n",
       "      <th>kaz_sent</th>\n",
       "      <th>rus_sent</th>\n",
       "    </tr>\n",
       "  </thead>\n",
       "  <tbody>\n",
       "    <tr>\n",
       "      <th>0</th>\n",
       "      <td>кезінде</td>\n",
       "      <td>При</td>\n",
       "      <td>B1</td>\n",
       "      <td>Қауіпті қалдықтар трансшекаралық тасымалдау ке...</td>\n",
       "      <td>При трансграничной перевозке опасные отходы до...</td>\n",
       "    </tr>\n",
       "    <tr>\n",
       "      <th>1</th>\n",
       "      <td>трансшекаралық</td>\n",
       "      <td>трансграничной</td>\n",
       "      <td>Unknown</td>\n",
       "      <td>Қауіпті қалдықтар трансшекаралық тасымалдау ке...</td>\n",
       "      <td>При трансграничной перевозке опасные отходы до...</td>\n",
       "    </tr>\n",
       "    <tr>\n",
       "      <th>2</th>\n",
       "      <td>тасымалдау</td>\n",
       "      <td>перевозке</td>\n",
       "      <td>Unknown</td>\n",
       "      <td>Қауіпті қалдықтар трансшекаралық тасымалдау ке...</td>\n",
       "      <td>При трансграничной перевозке опасные отходы до...</td>\n",
       "    </tr>\n",
       "    <tr>\n",
       "      <th>3</th>\n",
       "      <td>Қауіпті</td>\n",
       "      <td>опасные</td>\n",
       "      <td>B2</td>\n",
       "      <td>Қауіпті қалдықтар трансшекаралық тасымалдау ке...</td>\n",
       "      <td>При трансграничной перевозке опасные отходы до...</td>\n",
       "    </tr>\n",
       "    <tr>\n",
       "      <th>4</th>\n",
       "      <td>қалдықтар</td>\n",
       "      <td>отходы</td>\n",
       "      <td>Unknown</td>\n",
       "      <td>Қауіпті қалдықтар трансшекаралық тасымалдау ке...</td>\n",
       "      <td>При трансграничной перевозке опасные отходы до...</td>\n",
       "    </tr>\n",
       "  </tbody>\n",
       "</table>\n",
       "</div>"
      ],
      "text/plain": [
       "         kaz_item        rus_item     cefr  \\\n",
       "0         кезінде             При       B1   \n",
       "1  трансшекаралық  трансграничной  Unknown   \n",
       "2      тасымалдау       перевозке  Unknown   \n",
       "3         Қауіпті         опасные       B2   \n",
       "4       қалдықтар          отходы  Unknown   \n",
       "\n",
       "                                            kaz_sent  \\\n",
       "0  Қауіпті қалдықтар трансшекаралық тасымалдау ке...   \n",
       "1  Қауіпті қалдықтар трансшекаралық тасымалдау ке...   \n",
       "2  Қауіпті қалдықтар трансшекаралық тасымалдау ке...   \n",
       "3  Қауіпті қалдықтар трансшекаралық тасымалдау ке...   \n",
       "4  Қауіпті қалдықтар трансшекаралық тасымалдау ке...   \n",
       "\n",
       "                                            rus_sent  \n",
       "0  При трансграничной перевозке опасные отходы до...  \n",
       "1  При трансграничной перевозке опасные отходы до...  \n",
       "2  При трансграничной перевозке опасные отходы до...  \n",
       "3  При трансграничной перевозке опасные отходы до...  \n",
       "4  При трансграничной перевозке опасные отходы до...  "
      ]
     },
     "execution_count": 22,
     "metadata": {},
     "output_type": "execute_result"
    }
   ],
   "source": [
    "import pandas as pd\n",
    "\n",
    "silver_df = pd.read_csv(SILVER_PATH)\n",
    "print(f\"Rows: {len(silver_df):,}\")\n",
    "silver_df.head()"
   ]
  },
  {
   "cell_type": "code",
   "execution_count": 23,
   "id": "ef2e162d",
   "metadata": {},
   "outputs": [
    {
     "data": {
      "text/plain": [
       "cefr\n",
       "A1         2028\n",
       "A2         2104\n",
       "B1         2795\n",
       "B2         2039\n",
       "C1         1618\n",
       "C2         1209\n",
       "Unknown    6692\n",
       "Name: count, dtype: int64"
      ]
     },
     "execution_count": 23,
     "metadata": {},
     "output_type": "execute_result"
    }
   ],
   "source": [
    "silver_df['cefr'].value_counts().sort_index()"
   ]
  },
  {
   "cell_type": "markdown",
   "id": "6edba44f",
   "metadata": {},
   "source": [
    "## Alignment Diagnostics\n",
    "\n",
    "Grab a sample sentence pair and review the informative alignments along with probability-based heuristics."
   ]
  },
  {
   "cell_type": "code",
   "execution_count": 24,
   "id": "646ac2dc",
   "metadata": {},
   "outputs": [
    {
     "data": {
      "text/html": [
       "<div>\n",
       "<style scoped>\n",
       "    .dataframe tbody tr th:only-of-type {\n",
       "        vertical-align: middle;\n",
       "    }\n",
       "\n",
       "    .dataframe tbody tr th {\n",
       "        vertical-align: top;\n",
       "    }\n",
       "\n",
       "    .dataframe thead th {\n",
       "        text-align: right;\n",
       "    }\n",
       "</style>\n",
       "<table border=\"1\" class=\"dataframe\">\n",
       "  <thead>\n",
       "    <tr style=\"text-align: right;\">\n",
       "      <th></th>\n",
       "      <th>kaz_index</th>\n",
       "      <th>kaz_token</th>\n",
       "      <th>rus_index</th>\n",
       "      <th>rus_token</th>\n",
       "      <th>p_ru_given_kz</th>\n",
       "      <th>p_kz_given_ru</th>\n",
       "      <th>joint_prob</th>\n",
       "      <th>is_link</th>\n",
       "    </tr>\n",
       "  </thead>\n",
       "  <tbody>\n",
       "    <tr>\n",
       "      <th>0</th>\n",
       "      <td>0</td>\n",
       "      <td>Мен</td>\n",
       "      <td>0</td>\n",
       "      <td>И</td>\n",
       "      <td>3.587796e-05</td>\n",
       "      <td>1.000000e+00</td>\n",
       "      <td>3.587796e-05</td>\n",
       "      <td>False</td>\n",
       "    </tr>\n",
       "    <tr>\n",
       "      <th>1</th>\n",
       "      <td>0</td>\n",
       "      <td>Мен</td>\n",
       "      <td>1</td>\n",
       "      <td>я</td>\n",
       "      <td>9.999641e-01</td>\n",
       "      <td>1.000000e+00</td>\n",
       "      <td>9.999641e-01</td>\n",
       "      <td>True</td>\n",
       "    </tr>\n",
       "    <tr>\n",
       "      <th>2</th>\n",
       "      <td>0</td>\n",
       "      <td>Мен</td>\n",
       "      <td>2</td>\n",
       "      <td>подумал</td>\n",
       "      <td>3.228321e-28</td>\n",
       "      <td>1.193797e-13</td>\n",
       "      <td>3.228321e-28</td>\n",
       "      <td>False</td>\n",
       "    </tr>\n",
       "    <tr>\n",
       "      <th>3</th>\n",
       "      <td>0</td>\n",
       "      <td>Мен</td>\n",
       "      <td>3</td>\n",
       "      <td>об</td>\n",
       "      <td>6.146913e-39</td>\n",
       "      <td>3.557704e-05</td>\n",
       "      <td>6.146913e-39</td>\n",
       "      <td>False</td>\n",
       "    </tr>\n",
       "    <tr>\n",
       "      <th>4</th>\n",
       "      <td>0</td>\n",
       "      <td>Мен</td>\n",
       "      <td>4</td>\n",
       "      <td>этом,</td>\n",
       "      <td>4.209424e-32</td>\n",
       "      <td>2.085690e-07</td>\n",
       "      <td>4.209424e-32</td>\n",
       "      <td>False</td>\n",
       "    </tr>\n",
       "  </tbody>\n",
       "</table>\n",
       "</div>"
      ],
      "text/plain": [
       "   kaz_index kaz_token  rus_index rus_token  p_ru_given_kz  p_kz_given_ru  \\\n",
       "0          0       Мен          0         И   3.587796e-05   1.000000e+00   \n",
       "1          0       Мен          1         я   9.999641e-01   1.000000e+00   \n",
       "2          0       Мен          2   подумал   3.228321e-28   1.193797e-13   \n",
       "3          0       Мен          3        об   6.146913e-39   3.557704e-05   \n",
       "4          0       Мен          4     этом,   4.209424e-32   2.085690e-07   \n",
       "\n",
       "     joint_prob  is_link  \n",
       "0  3.587796e-05    False  \n",
       "1  9.999641e-01     True  \n",
       "2  3.228321e-28    False  \n",
       "3  6.146913e-39    False  \n",
       "4  4.209424e-32    False  "
      ]
     },
     "execution_count": 24,
     "metadata": {},
     "output_type": "execute_result"
    }
   ],
   "source": [
    "from cefr.alignment import (\n",
    "    EmbeddingAligner,\n",
    "    AlignmentDiagnostics,\n",
    "    fraction_above_threshold,\n",
    "    informative_link_share,\n",
    "    is_informative,\n",
    ")\n",
    "\n",
    "sample = silver_df.sample(random_state=0).iloc[0]\n",
    "kz_words = tuple(sample['kaz_sent'].split())\n",
    "ru_words = tuple(sample['rus_sent'].split())\n",
    "\n",
    "details = custom_aligner.diagnostics(\n",
    "    kz_words,\n",
    "    ru_words,\n",
    "    layer=8,\n",
    "    threshold=0.05,\n",
    ")\n",
    "details_matrix = details.to_dataframe(kz_words, ru_words)\n",
    "\n",
    "informative_matrix = details_matrix[details_matrix['rus_token'].apply(is_informative)].copy()\n",
    "informative_matrix.head()"
   ]
  },
  {
   "cell_type": "code",
   "execution_count": 25,
   "id": "ba551ded",
   "metadata": {},
   "outputs": [
    {
     "name": "stdout",
     "output_type": "stream",
     "text": [
      "Informative link share: 1.000\n",
      "Fraction above 0.30 threshold on sample: 0.964\n"
     ]
    }
   ],
   "source": [
    "share_correct = informative_link_share(details, kz_words, ru_words)\n",
    "prob_threshold = 0.3\n",
    "sample_records = silver_df.sample(n=200, random_state=1)[['kaz_sent', 'rus_sent']].to_dict('records')\n",
    "coverage = fraction_above_threshold(\n",
    "    sample_records,\n",
    "    custom_aligner,\n",
    "    layer=8,\n",
    "    thresh=0.05,\n",
    "    prob_threshold=prob_threshold,\n",
    ")\n",
    "print(f\"Informative link share: {share_correct:.3f}\")\n",
    "print(f\"Fraction above {prob_threshold:.2f} threshold on sample: {coverage:.3f}\")"
   ]
  },
  {
   "cell_type": "markdown",
   "id": "1c793b47",
   "metadata": {},
   "source": [
    "## Text-Level Prediction Helper\n",
    "\n",
    "Use the lightweight notebook wrapper to classify custom Kazakh text and inspect token alignments."
   ]
  },
  {
   "cell_type": "code",
   "execution_count": 26,
   "id": "722d6a80",
   "metadata": {},
   "outputs": [
    {
     "name": "stdout",
     "output_type": "stream",
     "text": [
      "Predicted CEFR level: A1\n",
      "Translation: Он читает книгу\n"
     ]
    },
    {
     "data": {
      "text/html": [
       "<div>\n",
       "<style scoped>\n",
       "    .dataframe tbody tr th:only-of-type {\n",
       "        vertical-align: middle;\n",
       "    }\n",
       "\n",
       "    .dataframe tbody tr th {\n",
       "        vertical-align: top;\n",
       "    }\n",
       "\n",
       "    .dataframe thead th {\n",
       "        text-align: right;\n",
       "    }\n",
       "</style>\n",
       "<table border=\"1\" class=\"dataframe\">\n",
       "  <thead>\n",
       "    <tr style=\"text-align: right;\">\n",
       "      <th></th>\n",
       "      <th>id_kazakh_word</th>\n",
       "      <th>id_russian_word</th>\n",
       "      <th>kazakh_word</th>\n",
       "      <th>russian_word</th>\n",
       "      <th>cefr_level</th>\n",
       "    </tr>\n",
       "  </thead>\n",
       "  <tbody>\n",
       "    <tr>\n",
       "      <th>0</th>\n",
       "      <td>0</td>\n",
       "      <td>0</td>\n",
       "      <td>Ол</td>\n",
       "      <td>Он</td>\n",
       "      <td>A1</td>\n",
       "    </tr>\n",
       "    <tr>\n",
       "      <th>1</th>\n",
       "      <td>2</td>\n",
       "      <td>1</td>\n",
       "      <td>оқып</td>\n",
       "      <td>читает</td>\n",
       "      <td>Unknown</td>\n",
       "    </tr>\n",
       "    <tr>\n",
       "      <th>2</th>\n",
       "      <td>1</td>\n",
       "      <td>2</td>\n",
       "      <td>кітап</td>\n",
       "      <td>книгу</td>\n",
       "      <td>Unknown</td>\n",
       "    </tr>\n",
       "  </tbody>\n",
       "</table>\n",
       "</div>"
      ],
      "text/plain": [
       "   id_kazakh_word  id_russian_word kazakh_word russian_word cefr_level\n",
       "0               0                0          Ол           Он         A1\n",
       "1               2                1        оқып       читает    Unknown\n",
       "2               1                2       кітап        книгу    Unknown"
      ]
     },
     "execution_count": 26,
     "metadata": {},
     "output_type": "execute_result"
    }
   ],
   "source": [
    "from app import predict_notebook_view, rows_to_dataframe\n",
    "\n",
    "kazakh_example = \"Ол кітап оқып жатыр\"\n",
    "russian_override = None  # provide manual translation if available\n",
    "\n",
    "prediction = predict_notebook_view(\n",
    "    kazakh_example,\n",
    "    russian_text=russian_override,\n",
    "    use_ensemble=False,\n",
    ")\n",
    "\n",
    "print(f\"Predicted CEFR level: {prediction.cefr_level}\")\n",
    "print(f\"Translation: {prediction.translation}\")\n",
    "rows_to_dataframe(prediction.rows)"
   ]
  },
  {
   "cell_type": "markdown",
   "id": "f7d1fb51",
   "metadata": {},
   "source": [
    "## Tabular CEFR Classifier\n",
    "\n",
    "Load the sklearn pipeline trained on `data/text/kazparc_kz_ru_cefr_estimated.csv` and review sample predictions."
   ]
  },
  {
   "cell_type": "code",
   "execution_count": 27,
   "id": "8adc52a8",
   "metadata": {},
   "outputs": [
    {
     "name": "stdout",
     "output_type": "stream",
     "text": [
      "Validation accuracy: 0.860\n"
     ]
    },
    {
     "data": {
      "text/html": [
       "<div>\n",
       "<style scoped>\n",
       "    .dataframe tbody tr th:only-of-type {\n",
       "        vertical-align: middle;\n",
       "    }\n",
       "\n",
       "    .dataframe tbody tr th {\n",
       "        vertical-align: top;\n",
       "    }\n",
       "\n",
       "    .dataframe thead th {\n",
       "        text-align: right;\n",
       "    }\n",
       "</style>\n",
       "<table border=\"1\" class=\"dataframe\">\n",
       "  <thead>\n",
       "    <tr style=\"text-align: right;\">\n",
       "      <th></th>\n",
       "      <th>kaz</th>\n",
       "      <th>rus</th>\n",
       "      <th>true_cefr</th>\n",
       "      <th>pred_cefr</th>\n",
       "      <th>confidence</th>\n",
       "    </tr>\n",
       "  </thead>\n",
       "  <tbody>\n",
       "    <tr>\n",
       "      <th>0</th>\n",
       "      <td>Маған бұдан былай жақсартудың қажеті жоқ.</td>\n",
       "      <td>Мне больше не нужно совершенствоваться.</td>\n",
       "      <td>A2</td>\n",
       "      <td>A2</td>\n",
       "      <td>0.798754</td>\n",
       "    </tr>\n",
       "    <tr>\n",
       "      <th>1</th>\n",
       "      <td>Бірақ басшылардың бірде-бірі жұмыс орнында жоқ.</td>\n",
       "      <td>Но ни одного из руководителей нет на рабочем м...</td>\n",
       "      <td>A2</td>\n",
       "      <td>A2</td>\n",
       "      <td>0.778494</td>\n",
       "    </tr>\n",
       "    <tr>\n",
       "      <th>2</th>\n",
       "      <td>Мұндай жағдайға әлемдік тарихтағы екі қасіретт...</td>\n",
       "      <td>Первые подобные случаи являются следствием дву...</td>\n",
       "      <td>C1</td>\n",
       "      <td>C1</td>\n",
       "      <td>0.728524</td>\n",
       "    </tr>\n",
       "    <tr>\n",
       "      <th>3</th>\n",
       "      <td>Бұл әрекеті қазір әлеуметтік желіде желдей есі...</td>\n",
       "      <td>Эта акция сейчас распространяется в социальных...</td>\n",
       "      <td>B2</td>\n",
       "      <td>B2</td>\n",
       "      <td>0.614697</td>\n",
       "    </tr>\n",
       "    <tr>\n",
       "      <th>4</th>\n",
       "      <td>Бірқатар өңірлер оның зардабын қатты тартуда.</td>\n",
       "      <td>Целый ряд регионов испытывает в ней острую пот...</td>\n",
       "      <td>B2</td>\n",
       "      <td>B2</td>\n",
       "      <td>0.760007</td>\n",
       "    </tr>\n",
       "  </tbody>\n",
       "</table>\n",
       "</div>"
      ],
      "text/plain": [
       "                                                 kaz  \\\n",
       "0          Маған бұдан былай жақсартудың қажеті жоқ.   \n",
       "1    Бірақ басшылардың бірде-бірі жұмыс орнында жоқ.   \n",
       "2  Мұндай жағдайға әлемдік тарихтағы екі қасіретт...   \n",
       "3  Бұл әрекеті қазір әлеуметтік желіде желдей есі...   \n",
       "4      Бірқатар өңірлер оның зардабын қатты тартуда.   \n",
       "\n",
       "                                                 rus true_cefr pred_cefr  \\\n",
       "0            Мне больше не нужно совершенствоваться.        A2        A2   \n",
       "1  Но ни одного из руководителей нет на рабочем м...        A2        A2   \n",
       "2  Первые подобные случаи являются следствием дву...        C1        C1   \n",
       "3  Эта акция сейчас распространяется в социальных...        B2        B2   \n",
       "4  Целый ряд регионов испытывает в ней острую пот...        B2        B2   \n",
       "\n",
       "   confidence  \n",
       "0    0.798754  \n",
       "1    0.778494  \n",
       "2    0.728524  \n",
       "3    0.614697  \n",
       "4    0.760007  "
      ]
     },
     "execution_count": 27,
     "metadata": {},
     "output_type": "execute_result"
    }
   ],
   "source": [
    "from pathlib import Path\n",
    "import json\n",
    "from joblib import load\n",
    "import pandas as pd\n",
    "from cefr.training import TabularTrainingConfig, train_tabular_model\n",
    "\n",
    "MODEL_DIR = Path('models/kazparc_tabular_cefr')\n",
    "MODEL_PATH = MODEL_DIR / 'model.joblib'\n",
    "METRICS_PATH = MODEL_DIR / 'metrics.json'\n",
    "DATA_PATH = Path('data/text/kazparc_kz_ru_cefr_estimated.csv')\n",
    "\n",
    "if not MODEL_PATH.exists():\n",
    "    cfg = TabularTrainingConfig(train_path=DATA_PATH, output_dir=MODEL_DIR)\n",
    "    train_tabular_model(cfg)\n",
    "\n",
    "classifier = load(MODEL_PATH)\n",
    "metrics = json.loads(METRICS_PATH.read_text()) if METRICS_PATH.exists() else None\n",
    "kazparc_df = pd.read_csv(DATA_PATH)\n",
    "feature_columns = [\n",
    "    col for col in kazparc_df.columns if col not in {'predicted_cefr', 'predicted_cefr_int'}\n",
    "]\n",
    "\n",
    "if metrics:\n",
    "    print(f\"Validation accuracy: {metrics['accuracy']:.3f}\")\n",
    "\n",
    "sample = kazparc_df.sample(n=5, random_state=0)\n",
    "proba = classifier.predict_proba(sample[feature_columns])\n",
    "preds = classifier.predict(sample[feature_columns])\n",
    "confidence = proba.max(axis=1)\n",
    "\n",
    "pd.DataFrame({\n",
    "    'kaz': sample['kaz'].values,\n",
    "    'rus': sample['rus'].values,\n",
    "    'true_cefr': sample['predicted_cefr'].values,\n",
    "    'pred_cefr': preds,\n",
    "    'confidence': confidence,\n",
    "})"
   ]
  },
  {
   "cell_type": "markdown",
   "id": "8beca014",
   "metadata": {},
   "source": [
    "Set a random seed or slice the dataframe differently to inspect additional examples."
   ]
  }
 ],
 "metadata": {
  "language_info": {
   "name": "python"
  }
 },
 "nbformat": 4,
 "nbformat_minor": 5
}
