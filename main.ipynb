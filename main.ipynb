{
 "cells": [
  {
   "cell_type": "code",
   "execution_count": 3,
   "id": "3b4847dd",
   "metadata": {
    "tags": [
     "setup"
    ]
   },
   "outputs": [
    {
     "data": {
      "text/plain": [
       "PosixPath('/Users/zhantore/Documents/cefr-kk-ru')"
      ]
     },
     "execution_count": 3,
     "metadata": {},
     "output_type": "execute_result"
    }
   ],
   "source": [
    "import os\n",
    "import pathlib\n",
    "import sys\n",
    "\n",
    "PROJECT_ROOT = pathlib.Path.cwd()\n",
    "\n",
    "PROJECT_ROOT"
   ]
  },
  {
   "cell_type": "code",
   "execution_count": 4,
   "id": "56695141",
   "metadata": {},
   "outputs": [
    {
     "name": "stdout",
     "output_type": "stream",
     "text": [
      "Python: 3.10.19\n",
      "Torch: 2.7.1\n",
      "CUDA available: False\n"
     ]
    }
   ],
   "source": [
    "import platform\n",
    "import torch\n",
    "\n",
    "print(\"Python:\", platform.python_version())\n",
    "print(\"Torch:\", torch.__version__)\n",
    "print(\"CUDA available:\", torch.cuda.is_available())"
   ]
  },
  {
   "cell_type": "code",
   "execution_count": 5,
   "id": "0f4d143d",
   "metadata": {},
   "outputs": [
    {
     "name": "stdout",
     "output_type": "stream",
     "text": [
      "Saved: data/parallel/kazparc_kz_ru.csv rows: 2000\n"
     ]
    },
    {
     "data": {
      "text/plain": [
       "PosixPath('data/parallel/kazparc_kz_ru.csv')"
      ]
     },
     "execution_count": 5,
     "metadata": {},
     "output_type": "execute_result"
    }
   ],
   "source": [
    "from src.data.download_parallel import save_kz_ru\n",
    "\n",
    "PARALLEL_PATH = save_kz_ru(split=\"train[:2000]\", out_dir=\"data/parallel\", out_name=\"kazparc_kz_ru.csv\")\n",
    "PARALLEL_PATH"
   ]
  },
  {
   "cell_type": "code",
   "execution_count": 6,
   "id": "f0f33987",
   "metadata": {},
   "outputs": [
    {
     "name": "stderr",
     "output_type": "stream",
     "text": [
      "Some weights of BertModel were not initialized from the model checkpoint at aneuraz/awesome-align-with-co and are newly initialized: ['bert.pooler.dense.bias', 'bert.pooler.dense.weight']\n",
      "You should probably TRAIN this model on a down-stream task to be able to use it for predictions and inference.\n"
     ]
    },
    {
     "name": "stdout",
     "output_type": "stream",
     "text": [
      "Saved: data/labels/silver_word_labels.csv rows=18911 skipped_sentences=0\n"
     ]
    },
    {
     "data": {
      "text/plain": [
       "PosixPath('data/labels/silver_word_labels.csv')"
      ]
     },
     "execution_count": 6,
     "metadata": {},
     "output_type": "execute_result"
    }
   ],
   "source": [
    "from src.align.mutual_align import EmbeddingAligner\n",
    "from src.pipeline.build_silver_labels import main as build_silver_labels\n",
    "\n",
    "# Use GPU explicitly if available\n",
    "aligner_device = \"cuda\" if torch.cuda.is_available() else \"cpu\"\n",
    "custom_aligner = EmbeddingAligner(device=aligner_device)\n",
    "\n",
    "SILVER_PATH = build_silver_labels(parallel_csv=PARALLEL_PATH, aligner=custom_aligner)\n",
    "SILVER_PATH"
   ]
  },
  {
   "cell_type": "code",
   "execution_count": 7,
   "id": "1a3cd87c",
   "metadata": {},
   "outputs": [
    {
     "data": {
      "text/html": [
       "<div>\n",
       "<style scoped>\n",
       "    .dataframe tbody tr th:only-of-type {\n",
       "        vertical-align: middle;\n",
       "    }\n",
       "\n",
       "    .dataframe tbody tr th {\n",
       "        vertical-align: top;\n",
       "    }\n",
       "\n",
       "    .dataframe thead th {\n",
       "        text-align: right;\n",
       "    }\n",
       "</style>\n",
       "<table border=\"1\" class=\"dataframe\">\n",
       "  <thead>\n",
       "    <tr style=\"text-align: right;\">\n",
       "      <th></th>\n",
       "      <th>kaz_item</th>\n",
       "      <th>rus_item</th>\n",
       "      <th>cefr</th>\n",
       "      <th>kaz_sent</th>\n",
       "      <th>rus_sent</th>\n",
       "    </tr>\n",
       "  </thead>\n",
       "  <tbody>\n",
       "    <tr>\n",
       "      <th>0</th>\n",
       "      <td>кезінде</td>\n",
       "      <td>При</td>\n",
       "      <td>B1</td>\n",
       "      <td>Қауіпті қалдықтар трансшекаралық тасымалдау ке...</td>\n",
       "      <td>При трансграничной перевозке опасные отходы до...</td>\n",
       "    </tr>\n",
       "    <tr>\n",
       "      <th>1</th>\n",
       "      <td>трансшекаралық</td>\n",
       "      <td>трансграничной</td>\n",
       "      <td>Unknown</td>\n",
       "      <td>Қауіпті қалдықтар трансшекаралық тасымалдау ке...</td>\n",
       "      <td>При трансграничной перевозке опасные отходы до...</td>\n",
       "    </tr>\n",
       "    <tr>\n",
       "      <th>2</th>\n",
       "      <td>тасымалдау</td>\n",
       "      <td>перевозке</td>\n",
       "      <td>Unknown</td>\n",
       "      <td>Қауіпті қалдықтар трансшекаралық тасымалдау ке...</td>\n",
       "      <td>При трансграничной перевозке опасные отходы до...</td>\n",
       "    </tr>\n",
       "    <tr>\n",
       "      <th>3</th>\n",
       "      <td>Қауіпті</td>\n",
       "      <td>опасные</td>\n",
       "      <td>B2</td>\n",
       "      <td>Қауіпті қалдықтар трансшекаралық тасымалдау ке...</td>\n",
       "      <td>При трансграничной перевозке опасные отходы до...</td>\n",
       "    </tr>\n",
       "    <tr>\n",
       "      <th>4</th>\n",
       "      <td>қалдықтар</td>\n",
       "      <td>отходы</td>\n",
       "      <td>Unknown</td>\n",
       "      <td>Қауіпті қалдықтар трансшекаралық тасымалдау ке...</td>\n",
       "      <td>При трансграничной перевозке опасные отходы до...</td>\n",
       "    </tr>\n",
       "    <tr>\n",
       "      <th>...</th>\n",
       "      <td>...</td>\n",
       "      <td>...</td>\n",
       "      <td>...</td>\n",
       "      <td>...</td>\n",
       "      <td>...</td>\n",
       "    </tr>\n",
       "    <tr>\n",
       "      <th>18906</th>\n",
       "      <td>Піл</td>\n",
       "      <td>Слон</td>\n",
       "      <td>C2</td>\n",
       "      <td>Піл қалың бұтада суретке қарап тұр.</td>\n",
       "      <td>Слон стоит в зарослях, пристально смотря на чт...</td>\n",
       "    </tr>\n",
       "    <tr>\n",
       "      <th>18907</th>\n",
       "      <td>бұтада</td>\n",
       "      <td>в</td>\n",
       "      <td>A2</td>\n",
       "      <td>Піл қалың бұтада суретке қарап тұр.</td>\n",
       "      <td>Слон стоит в зарослях, пристально смотря на чт...</td>\n",
       "    </tr>\n",
       "    <tr>\n",
       "      <th>18908</th>\n",
       "      <td>бұтада</td>\n",
       "      <td>зарослях,</td>\n",
       "      <td>Unknown</td>\n",
       "      <td>Піл қалың бұтада суретке қарап тұр.</td>\n",
       "      <td>Слон стоит в зарослях, пристально смотря на чт...</td>\n",
       "    </tr>\n",
       "    <tr>\n",
       "      <th>18909</th>\n",
       "      <td>қарап</td>\n",
       "      <td>смотря</td>\n",
       "      <td>A2</td>\n",
       "      <td>Піл қалың бұтада суретке қарап тұр.</td>\n",
       "      <td>Слон стоит в зарослях, пристально смотря на чт...</td>\n",
       "    </tr>\n",
       "    <tr>\n",
       "      <th>18910</th>\n",
       "      <td>Белгі</td>\n",
       "      <td>Сигнальте!</td>\n",
       "      <td>Unknown</td>\n",
       "      <td>Белгі бер!</td>\n",
       "      <td>Сигнальте!</td>\n",
       "    </tr>\n",
       "  </tbody>\n",
       "</table>\n",
       "<p>18911 rows × 5 columns</p>\n",
       "</div>"
      ],
      "text/plain": [
       "             kaz_item        rus_item     cefr  \\\n",
       "0             кезінде             При       B1   \n",
       "1      трансшекаралық  трансграничной  Unknown   \n",
       "2          тасымалдау       перевозке  Unknown   \n",
       "3             Қауіпті         опасные       B2   \n",
       "4           қалдықтар          отходы  Unknown   \n",
       "...               ...             ...      ...   \n",
       "18906             Піл            Слон       C2   \n",
       "18907          бұтада               в       A2   \n",
       "18908          бұтада       зарослях,  Unknown   \n",
       "18909           қарап          смотря       A2   \n",
       "18910           Белгі      Сигнальте!  Unknown   \n",
       "\n",
       "                                                kaz_sent  \\\n",
       "0      Қауіпті қалдықтар трансшекаралық тасымалдау ке...   \n",
       "1      Қауіпті қалдықтар трансшекаралық тасымалдау ке...   \n",
       "2      Қауіпті қалдықтар трансшекаралық тасымалдау ке...   \n",
       "3      Қауіпті қалдықтар трансшекаралық тасымалдау ке...   \n",
       "4      Қауіпті қалдықтар трансшекаралық тасымалдау ке...   \n",
       "...                                                  ...   \n",
       "18906                Піл қалың бұтада суретке қарап тұр.   \n",
       "18907                Піл қалың бұтада суретке қарап тұр.   \n",
       "18908                Піл қалың бұтада суретке қарап тұр.   \n",
       "18909                Піл қалың бұтада суретке қарап тұр.   \n",
       "18910                                         Белгі бер!   \n",
       "\n",
       "                                                rus_sent  \n",
       "0      При трансграничной перевозке опасные отходы до...  \n",
       "1      При трансграничной перевозке опасные отходы до...  \n",
       "2      При трансграничной перевозке опасные отходы до...  \n",
       "3      При трансграничной перевозке опасные отходы до...  \n",
       "4      При трансграничной перевозке опасные отходы до...  \n",
       "...                                                  ...  \n",
       "18906  Слон стоит в зарослях, пристально смотря на чт...  \n",
       "18907  Слон стоит в зарослях, пристально смотря на чт...  \n",
       "18908  Слон стоит в зарослях, пристально смотря на чт...  \n",
       "18909  Слон стоит в зарослях, пристально смотря на чт...  \n",
       "18910                                         Сигнальте!  \n",
       "\n",
       "[18911 rows x 5 columns]"
      ]
     },
     "execution_count": 7,
     "metadata": {},
     "output_type": "execute_result"
    }
   ],
   "source": [
    "import pandas as pd\n",
    "\n",
    "silver_df = pd.read_csv(SILVER_PATH)\n",
    "silver_df"
   ]
  },
  {
   "cell_type": "code",
   "execution_count": null,
   "id": "a9343215",
   "metadata": {},
   "outputs": [],
   "source": []
  }
 ],
 "metadata": {
  "kernelspec": {
   "display_name": "kazakh_cefr_env",
   "language": "python",
   "name": "python3"
  },
  "language_info": {
   "codemirror_mode": {
    "name": "ipython",
    "version": 3
   },
   "file_extension": ".py",
   "mimetype": "text/x-python",
   "name": "python",
   "nbconvert_exporter": "python",
   "pygments_lexer": "ipython3",
   "version": "3.10.19"
  }
 },
 "nbformat": 4,
 "nbformat_minor": 5
}
