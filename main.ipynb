{
 "cells": [
  {
   "cell_type": "code",
   "execution_count": 2,
   "id": "3b4847dd",
   "metadata": {
    "tags": [
     "setup"
    ]
   },
   "outputs": [
    {
     "data": {
      "text/plain": [
       "PosixPath('/Users/galymzhantore/cefr-classification-kk')"
      ]
     },
     "execution_count": 2,
     "metadata": {},
     "output_type": "execute_result"
    }
   ],
   "source": [
    "import os\n",
    "import pathlib\n",
    "import sys\n",
    "\n",
    "PROJECT_ROOT = pathlib.Path.cwd()\n",
    "\n",
    "PROJECT_ROOT"
   ]
  },
  {
   "cell_type": "code",
   "execution_count": 3,
   "id": "56695141",
   "metadata": {},
   "outputs": [
    {
     "name": "stdout",
     "output_type": "stream",
     "text": [
      "Python: 3.10.18\n",
      "Torch: 2.5.1\n",
      "CUDA available: False\n"
     ]
    }
   ],
   "source": [
    "import platform\n",
    "import torch\n",
    "\n",
    "print(\"Python:\", platform.python_version())\n",
    "print(\"Torch:\", torch.__version__)\n",
    "print(\"CUDA available:\", torch.cuda.is_available())"
   ]
  },
  {
   "cell_type": "code",
   "execution_count": 4,
   "id": "0f4d143d",
   "metadata": {},
   "outputs": [
    {
     "name": "stdout",
     "output_type": "stream",
     "text": [
      "Saved: data/parallel/kazparc_kz_ru.csv rows: 2000\n"
     ]
    },
    {
     "data": {
      "text/plain": [
       "PosixPath('data/parallel/kazparc_kz_ru.csv')"
      ]
     },
     "execution_count": 4,
     "metadata": {},
     "output_type": "execute_result"
    }
   ],
   "source": [
    "from src.data.download_parallel import save_kz_ru\n",
    "\n",
    "PARALLEL_PATH = save_kz_ru(split=\"train[:2000]\", out_dir=\"data/parallel\", out_name=\"kazparc_kz_ru.csv\")\n",
    "PARALLEL_PATH"
   ]
  },
  {
   "cell_type": "code",
   "execution_count": 5,
   "id": "f0f33987",
   "metadata": {},
   "outputs": [
    {
     "name": "stderr",
     "output_type": "stream",
     "text": [
      "Some weights of BertModel were not initialized from the model checkpoint at aneuraz/awesome-align-with-co and are newly initialized: ['bert.pooler.dense.bias', 'bert.pooler.dense.weight']\n",
      "You should probably TRAIN this model on a down-stream task to be able to use it for predictions and inference.\n"
     ]
    },
    {
     "name": "stdout",
     "output_type": "stream",
     "text": [
      "Saved: data/labels/silver_word_labels.csv rows=18485 skipped_sentences=0\n"
     ]
    },
    {
     "data": {
      "text/plain": [
       "PosixPath('data/labels/silver_word_labels.csv')"
      ]
     },
     "execution_count": 5,
     "metadata": {},
     "output_type": "execute_result"
    }
   ],
   "source": [
    "from src.align.mutual_align import EmbeddingAligner\n",
    "from src.pipeline.build_silver_labels import main as build_silver_labels\n",
    "\n",
    "# Use GPU explicitly if available\n",
    "aligner_device = \"cuda\" if torch.cuda.is_available() else \"cpu\"\n",
    "custom_aligner = EmbeddingAligner(device=aligner_device)\n",
    "\n",
    "SILVER_PATH = build_silver_labels(parallel_csv=PARALLEL_PATH, aligner=custom_aligner)\n",
    "SILVER_PATH"
   ]
  },
  {
   "cell_type": "code",
   "execution_count": 6,
   "id": "1a3cd87c",
   "metadata": {},
   "outputs": [
    {
     "data": {
      "text/html": [
       "<div>\n",
       "<style scoped>\n",
       "    .dataframe tbody tr th:only-of-type {\n",
       "        vertical-align: middle;\n",
       "    }\n",
       "\n",
       "    .dataframe tbody tr th {\n",
       "        vertical-align: top;\n",
       "    }\n",
       "\n",
       "    .dataframe thead th {\n",
       "        text-align: right;\n",
       "    }\n",
       "</style>\n",
       "<table border=\"1\" class=\"dataframe\">\n",
       "  <thead>\n",
       "    <tr style=\"text-align: right;\">\n",
       "      <th></th>\n",
       "      <th>kaz_item</th>\n",
       "      <th>rus_item</th>\n",
       "      <th>cefr</th>\n",
       "      <th>kaz_sent</th>\n",
       "      <th>rus_sent</th>\n",
       "    </tr>\n",
       "  </thead>\n",
       "  <tbody>\n",
       "    <tr>\n",
       "      <th>0</th>\n",
       "      <td>кезінде</td>\n",
       "      <td>При</td>\n",
       "      <td>B1</td>\n",
       "      <td>Қауіпті қалдықтар трансшекаралық тасымалдау ке...</td>\n",
       "      <td>При трансграничной перевозке опасные отходы до...</td>\n",
       "    </tr>\n",
       "    <tr>\n",
       "      <th>1</th>\n",
       "      <td>трансшекаралық</td>\n",
       "      <td>трансграничной</td>\n",
       "      <td>Unknown</td>\n",
       "      <td>Қауіпті қалдықтар трансшекаралық тасымалдау ке...</td>\n",
       "      <td>При трансграничной перевозке опасные отходы до...</td>\n",
       "    </tr>\n",
       "    <tr>\n",
       "      <th>2</th>\n",
       "      <td>тасымалдау</td>\n",
       "      <td>перевозке</td>\n",
       "      <td>Unknown</td>\n",
       "      <td>Қауіпті қалдықтар трансшекаралық тасымалдау ке...</td>\n",
       "      <td>При трансграничной перевозке опасные отходы до...</td>\n",
       "    </tr>\n",
       "    <tr>\n",
       "      <th>3</th>\n",
       "      <td>Қауіпті</td>\n",
       "      <td>опасные</td>\n",
       "      <td>B2</td>\n",
       "      <td>Қауіпті қалдықтар трансшекаралық тасымалдау ке...</td>\n",
       "      <td>При трансграничной перевозке опасные отходы до...</td>\n",
       "    </tr>\n",
       "    <tr>\n",
       "      <th>4</th>\n",
       "      <td>қалдықтар</td>\n",
       "      <td>отходы</td>\n",
       "      <td>Unknown</td>\n",
       "      <td>Қауіпті қалдықтар трансшекаралық тасымалдау ке...</td>\n",
       "      <td>При трансграничной перевозке опасные отходы до...</td>\n",
       "    </tr>\n",
       "    <tr>\n",
       "      <th>...</th>\n",
       "      <td>...</td>\n",
       "      <td>...</td>\n",
       "      <td>...</td>\n",
       "      <td>...</td>\n",
       "      <td>...</td>\n",
       "    </tr>\n",
       "    <tr>\n",
       "      <th>18480</th>\n",
       "      <td>Піл</td>\n",
       "      <td>Слон</td>\n",
       "      <td>C2</td>\n",
       "      <td>Піл қалың бұтада суретке қарап тұр.</td>\n",
       "      <td>Слон стоит в зарослях, пристально смотря на чт...</td>\n",
       "    </tr>\n",
       "    <tr>\n",
       "      <th>18481</th>\n",
       "      <td>бұтада</td>\n",
       "      <td>в</td>\n",
       "      <td>A2</td>\n",
       "      <td>Піл қалың бұтада суретке қарап тұр.</td>\n",
       "      <td>Слон стоит в зарослях, пристально смотря на чт...</td>\n",
       "    </tr>\n",
       "    <tr>\n",
       "      <th>18482</th>\n",
       "      <td>бұтада</td>\n",
       "      <td>зарослях,</td>\n",
       "      <td>Unknown</td>\n",
       "      <td>Піл қалың бұтада суретке қарап тұр.</td>\n",
       "      <td>Слон стоит в зарослях, пристально смотря на чт...</td>\n",
       "    </tr>\n",
       "    <tr>\n",
       "      <th>18483</th>\n",
       "      <td>қарап</td>\n",
       "      <td>смотря</td>\n",
       "      <td>A2</td>\n",
       "      <td>Піл қалың бұтада суретке қарап тұр.</td>\n",
       "      <td>Слон стоит в зарослях, пристально смотря на чт...</td>\n",
       "    </tr>\n",
       "    <tr>\n",
       "      <th>18484</th>\n",
       "      <td>Белгі</td>\n",
       "      <td>Сигнальте!</td>\n",
       "      <td>Unknown</td>\n",
       "      <td>Белгі бер!</td>\n",
       "      <td>Сигнальте!</td>\n",
       "    </tr>\n",
       "  </tbody>\n",
       "</table>\n",
       "<p>18485 rows × 5 columns</p>\n",
       "</div>"
      ],
      "text/plain": [
       "             kaz_item        rus_item     cefr  \\\n",
       "0             кезінде             При       B1   \n",
       "1      трансшекаралық  трансграничной  Unknown   \n",
       "2          тасымалдау       перевозке  Unknown   \n",
       "3             Қауіпті         опасные       B2   \n",
       "4           қалдықтар          отходы  Unknown   \n",
       "...               ...             ...      ...   \n",
       "18480             Піл            Слон       C2   \n",
       "18481          бұтада               в       A2   \n",
       "18482          бұтада       зарослях,  Unknown   \n",
       "18483           қарап          смотря       A2   \n",
       "18484           Белгі      Сигнальте!  Unknown   \n",
       "\n",
       "                                                kaz_sent  \\\n",
       "0      Қауіпті қалдықтар трансшекаралық тасымалдау ке...   \n",
       "1      Қауіпті қалдықтар трансшекаралық тасымалдау ке...   \n",
       "2      Қауіпті қалдықтар трансшекаралық тасымалдау ке...   \n",
       "3      Қауіпті қалдықтар трансшекаралық тасымалдау ке...   \n",
       "4      Қауіпті қалдықтар трансшекаралық тасымалдау ке...   \n",
       "...                                                  ...   \n",
       "18480                Піл қалың бұтада суретке қарап тұр.   \n",
       "18481                Піл қалың бұтада суретке қарап тұр.   \n",
       "18482                Піл қалың бұтада суретке қарап тұр.   \n",
       "18483                Піл қалың бұтада суретке қарап тұр.   \n",
       "18484                                         Белгі бер!   \n",
       "\n",
       "                                                rus_sent  \n",
       "0      При трансграничной перевозке опасные отходы до...  \n",
       "1      При трансграничной перевозке опасные отходы до...  \n",
       "2      При трансграничной перевозке опасные отходы до...  \n",
       "3      При трансграничной перевозке опасные отходы до...  \n",
       "4      При трансграничной перевозке опасные отходы до...  \n",
       "...                                                  ...  \n",
       "18480  Слон стоит в зарослях, пристально смотря на чт...  \n",
       "18481  Слон стоит в зарослях, пристально смотря на чт...  \n",
       "18482  Слон стоит в зарослях, пристально смотря на чт...  \n",
       "18483  Слон стоит в зарослях, пристально смотря на чт...  \n",
       "18484                                         Сигнальте!  \n",
       "\n",
       "[18485 rows x 5 columns]"
      ]
     },
     "execution_count": 6,
     "metadata": {},
     "output_type": "execute_result"
    }
   ],
   "source": [
    "import pandas as pd\n",
    "\n",
    "silver_df = pd.read_csv(SILVER_PATH)\n",
    "silver_df"
   ]
  },
  {
   "cell_type": "code",
   "execution_count": 7,
   "id": "5257724e",
   "metadata": {},
   "outputs": [],
   "source": [
    "from src.align.analysis import (\n",
    "    align_with_probabilities,\n",
    "    informative_link_share,\n",
    "    fraction_above_threshold,\n",
    "    is_informative,\n",
    ")\n"
   ]
  },
  {
   "cell_type": "code",
   "execution_count": 8,
   "id": "dc3d5dbb",
   "metadata": {},
   "outputs": [
    {
     "data": {
      "text/html": [
       "<div>\n",
       "<style scoped>\n",
       "    .dataframe tbody tr th:only-of-type {\n",
       "        vertical-align: middle;\n",
       "    }\n",
       "\n",
       "    .dataframe tbody tr th {\n",
       "        vertical-align: top;\n",
       "    }\n",
       "\n",
       "    .dataframe thead th {\n",
       "        text-align: right;\n",
       "    }\n",
       "</style>\n",
       "<table border=\"1\" class=\"dataframe\">\n",
       "  <thead>\n",
       "    <tr style=\"text-align: right;\">\n",
       "      <th></th>\n",
       "      <th>kaz_index</th>\n",
       "      <th>kaz_token</th>\n",
       "      <th>rus_index</th>\n",
       "      <th>rus_token</th>\n",
       "      <th>p_ru_given_kz</th>\n",
       "      <th>p_kz_given_ru</th>\n",
       "      <th>joint_prob</th>\n",
       "      <th>is_link</th>\n",
       "    </tr>\n",
       "  </thead>\n",
       "  <tbody>\n",
       "    <tr>\n",
       "      <th>0</th>\n",
       "      <td>0</td>\n",
       "      <td>Қауіпті</td>\n",
       "      <td>0</td>\n",
       "      <td>При</td>\n",
       "      <td>1.265354e-37</td>\n",
       "      <td>1.331234e-43</td>\n",
       "      <td>1.331234e-43</td>\n",
       "      <td>False</td>\n",
       "    </tr>\n",
       "    <tr>\n",
       "      <th>1</th>\n",
       "      <td>0</td>\n",
       "      <td>Қауіпті</td>\n",
       "      <td>1</td>\n",
       "      <td>трансграничной</td>\n",
       "      <td>6.273898e-10</td>\n",
       "      <td>1.390772e-26</td>\n",
       "      <td>1.390772e-26</td>\n",
       "      <td>False</td>\n",
       "    </tr>\n",
       "    <tr>\n",
       "      <th>2</th>\n",
       "      <td>0</td>\n",
       "      <td>Қауіпті</td>\n",
       "      <td>2</td>\n",
       "      <td>перевозке</td>\n",
       "      <td>1.395833e-41</td>\n",
       "      <td>0.000000e+00</td>\n",
       "      <td>0.000000e+00</td>\n",
       "      <td>False</td>\n",
       "    </tr>\n",
       "    <tr>\n",
       "      <th>3</th>\n",
       "      <td>0</td>\n",
       "      <td>Қауіпті</td>\n",
       "      <td>3</td>\n",
       "      <td>опасные</td>\n",
       "      <td>1.000000e+00</td>\n",
       "      <td>1.000000e+00</td>\n",
       "      <td>1.000000e+00</td>\n",
       "      <td>True</td>\n",
       "    </tr>\n",
       "    <tr>\n",
       "      <th>4</th>\n",
       "      <td>0</td>\n",
       "      <td>Қауіпті</td>\n",
       "      <td>4</td>\n",
       "      <td>отходы</td>\n",
       "      <td>1.278244e-38</td>\n",
       "      <td>4.169283e-41</td>\n",
       "      <td>4.169283e-41</td>\n",
       "      <td>False</td>\n",
       "    </tr>\n",
       "  </tbody>\n",
       "</table>\n",
       "</div>"
      ],
      "text/plain": [
       "   kaz_index kaz_token  rus_index       rus_token  p_ru_given_kz  \\\n",
       "0          0   Қауіпті          0             При   1.265354e-37   \n",
       "1          0   Қауіпті          1  трансграничной   6.273898e-10   \n",
       "2          0   Қауіпті          2       перевозке   1.395833e-41   \n",
       "3          0   Қауіпті          3         опасные   1.000000e+00   \n",
       "4          0   Қауіпті          4          отходы   1.278244e-38   \n",
       "\n",
       "   p_kz_given_ru    joint_prob  is_link  \n",
       "0   1.331234e-43  1.331234e-43    False  \n",
       "1   1.390772e-26  1.390772e-26    False  \n",
       "2   0.000000e+00  0.000000e+00    False  \n",
       "3   1.000000e+00  1.000000e+00     True  \n",
       "4   4.169283e-41  4.169283e-41    False  "
      ]
     },
     "execution_count": 8,
     "metadata": {},
     "output_type": "execute_result"
    }
   ],
   "source": [
    "sample = silver_df.iloc[0]\n",
    "kz_words = tuple(sample['kaz_sent'].split())\n",
    "ru_words = tuple(sample['rus_sent'].split())\n",
    "details = align_with_probabilities(\n",
    "    custom_aligner,\n",
    "    kz_words,\n",
    "    ru_words,\n",
    "    layer=8,\n",
    "    thresh=0.05,\n",
    ")\n",
    "details_matrix = details.to_dataframe(kz_words, ru_words)\n",
    "details_matrix.head()\n"
   ]
  },
  {
   "cell_type": "code",
   "execution_count": 9,
   "id": "fe26bb95",
   "metadata": {},
   "outputs": [
    {
     "data": {
      "text/html": [
       "<div>\n",
       "<style scoped>\n",
       "    .dataframe tbody tr th:only-of-type {\n",
       "        vertical-align: middle;\n",
       "    }\n",
       "\n",
       "    .dataframe tbody tr th {\n",
       "        vertical-align: top;\n",
       "    }\n",
       "\n",
       "    .dataframe thead th {\n",
       "        text-align: right;\n",
       "    }\n",
       "</style>\n",
       "<table border=\"1\" class=\"dataframe\">\n",
       "  <thead>\n",
       "    <tr style=\"text-align: right;\">\n",
       "      <th></th>\n",
       "      <th>kaz_index</th>\n",
       "      <th>kaz_token</th>\n",
       "      <th>rus_index</th>\n",
       "      <th>rus_token</th>\n",
       "      <th>p_ru_given_kz</th>\n",
       "      <th>p_kz_given_ru</th>\n",
       "      <th>joint_prob</th>\n",
       "      <th>is_link</th>\n",
       "    </tr>\n",
       "  </thead>\n",
       "  <tbody>\n",
       "    <tr>\n",
       "      <th>0</th>\n",
       "      <td>0</td>\n",
       "      <td>Қауіпті</td>\n",
       "      <td>0</td>\n",
       "      <td>При</td>\n",
       "      <td>1.265354e-37</td>\n",
       "      <td>1.331234e-43</td>\n",
       "      <td>1.331234e-43</td>\n",
       "      <td>False</td>\n",
       "    </tr>\n",
       "    <tr>\n",
       "      <th>1</th>\n",
       "      <td>0</td>\n",
       "      <td>Қауіпті</td>\n",
       "      <td>1</td>\n",
       "      <td>трансграничной</td>\n",
       "      <td>6.273898e-10</td>\n",
       "      <td>1.390772e-26</td>\n",
       "      <td>1.390772e-26</td>\n",
       "      <td>False</td>\n",
       "    </tr>\n",
       "    <tr>\n",
       "      <th>2</th>\n",
       "      <td>0</td>\n",
       "      <td>Қауіпті</td>\n",
       "      <td>2</td>\n",
       "      <td>перевозке</td>\n",
       "      <td>1.395833e-41</td>\n",
       "      <td>0.000000e+00</td>\n",
       "      <td>0.000000e+00</td>\n",
       "      <td>False</td>\n",
       "    </tr>\n",
       "    <tr>\n",
       "      <th>3</th>\n",
       "      <td>0</td>\n",
       "      <td>Қауіпті</td>\n",
       "      <td>3</td>\n",
       "      <td>опасные</td>\n",
       "      <td>1.000000e+00</td>\n",
       "      <td>1.000000e+00</td>\n",
       "      <td>1.000000e+00</td>\n",
       "      <td>True</td>\n",
       "    </tr>\n",
       "    <tr>\n",
       "      <th>4</th>\n",
       "      <td>0</td>\n",
       "      <td>Қауіпті</td>\n",
       "      <td>4</td>\n",
       "      <td>отходы</td>\n",
       "      <td>1.278244e-38</td>\n",
       "      <td>4.169283e-41</td>\n",
       "      <td>4.169283e-41</td>\n",
       "      <td>False</td>\n",
       "    </tr>\n",
       "  </tbody>\n",
       "</table>\n",
       "</div>"
      ],
      "text/plain": [
       "   kaz_index kaz_token  rus_index       rus_token  p_ru_given_kz  \\\n",
       "0          0   Қауіпті          0             При   1.265354e-37   \n",
       "1          0   Қауіпті          1  трансграничной   6.273898e-10   \n",
       "2          0   Қауіпті          2       перевозке   1.395833e-41   \n",
       "3          0   Қауіпті          3         опасные   1.000000e+00   \n",
       "4          0   Қауіпті          4          отходы   1.278244e-38   \n",
       "\n",
       "   p_kz_given_ru    joint_prob  is_link  \n",
       "0   1.331234e-43  1.331234e-43    False  \n",
       "1   1.390772e-26  1.390772e-26    False  \n",
       "2   0.000000e+00  0.000000e+00    False  \n",
       "3   1.000000e+00  1.000000e+00     True  \n",
       "4   4.169283e-41  4.169283e-41    False  "
      ]
     },
     "execution_count": 9,
     "metadata": {},
     "output_type": "execute_result"
    }
   ],
   "source": [
    "informative_matrix = details_matrix[details_matrix['rus_token'].apply(is_informative)].copy()\n",
    "informative_matrix.head()\n"
   ]
  },
  {
   "cell_type": "code",
   "execution_count": 10,
   "id": "8349c8a9",
   "metadata": {},
   "outputs": [
    {
     "data": {
      "text/plain": [
       "1.0"
      ]
     },
     "execution_count": 10,
     "metadata": {},
     "output_type": "execute_result"
    }
   ],
   "source": [
    "share_correct = informative_link_share(details, kz_words, ru_words)\n",
    "share_correct\n"
   ]
  },
  {
   "cell_type": "code",
   "execution_count": 11,
   "id": "7494db08",
   "metadata": {},
   "outputs": [
    {
     "data": {
      "text/plain": [
       "{'kz_indices': [0,\n",
       "  1,\n",
       "  2,\n",
       "  3,\n",
       "  4,\n",
       "  5,\n",
       "  6,\n",
       "  7,\n",
       "  8,\n",
       "  9,\n",
       "  10,\n",
       "  11,\n",
       "  12,\n",
       "  13,\n",
       "  14,\n",
       "  15,\n",
       "  16,\n",
       "  17,\n",
       "  18,\n",
       "  19,\n",
       "  20,\n",
       "  21,\n",
       "  22],\n",
       " 'ru_indices': [0,\n",
       "  1,\n",
       "  2,\n",
       "  3,\n",
       "  4,\n",
       "  5,\n",
       "  6,\n",
       "  7,\n",
       "  8,\n",
       "  9,\n",
       "  10,\n",
       "  11,\n",
       "  12,\n",
       "  13,\n",
       "  14,\n",
       "  15,\n",
       "  16,\n",
       "  17,\n",
       "  18,\n",
       "  19,\n",
       "  20,\n",
       "  21,\n",
       "  22,\n",
       "  23]}"
      ]
     },
     "execution_count": 11,
     "metadata": {},
     "output_type": "execute_result"
    }
   ],
   "source": [
    "alignment_indices = {\n",
    "    'kz_indices': details.kz_keep,\n",
    "    'ru_indices': details.ru_keep,\n",
    "}\n",
    "alignment_indices\n"
   ]
  },
  {
   "cell_type": "code",
   "execution_count": 12,
   "id": "0b4b9290",
   "metadata": {},
   "outputs": [
    {
     "data": {
      "text/plain": [
       "0.9729866195405201"
      ]
     },
     "execution_count": 12,
     "metadata": {},
     "output_type": "execute_result"
    }
   ],
   "source": [
    "prob_threshold = 0.3\n",
    "sample_size = 200\n",
    "sample_records = silver_df.head(sample_size)[['kaz_sent', 'rus_sent']].to_dict('records')\n",
    "fraction_above_threshold(\n",
    "    sample_records,\n",
    "    custom_aligner,\n",
    "    layer=8,\n",
    "    thresh=0.05,\n",
    "    prob_threshold=prob_threshold,\n",
    ")\n"
   ]
  },
  {
   "cell_type": "code",
   "metadata": {},
   "execution_count": null,
   "outputs": [],
   "source": [
    "# Example ensemble inference (requires trained Russian sentence model)\n",
    "from src.translation.translator import get_translator\n",
    "from src.ru_sentence_model.model import RuSentenceCefrModel\n",
    "from src.text.predict_text import predict_text_cefr_ensemble\n",
    "\n",
    "ru_model = RuSentenceCefrModel.from_pretrained(\"models/ru_cefr_sentence\")\n",
    "translator = get_translator()\n",
    "ensemble_result = predict_text_cefr_ensemble(\n",
    "    sample['kaz_sent'],\n",
    "    translator=translator,\n",
    "    aligner=custom_aligner,\n",
    "    russian_text=sample['rus_sent'],\n",
    "    russian_model=ru_model,\n",
    "    russian_weight=0.6,\n",
    ")\n",
    "ensemble_result\n"
   ]
  }
 ],
 "metadata": {
  "kernelspec": {
   "display_name": "kazakh_cefr_env",
   "language": "python",
   "name": "python3"
  },
  "language_info": {
   "codemirror_mode": {
    "name": "ipython",
    "version": 3
   },
   "file_extension": ".py",
   "mimetype": "text/x-python",
   "name": "python",
   "nbconvert_exporter": "python",
   "pygments_lexer": "ipython3",
   "version": "3.10.18"
  }
 },
 "nbformat": 4,
 "nbformat_minor": 5
}